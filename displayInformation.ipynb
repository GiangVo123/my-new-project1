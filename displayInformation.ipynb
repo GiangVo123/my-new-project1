{
 "cells": [
  {
   "cell_type": "code",
   "execution_count": 1,
   "id": "adeb5eb7",
   "metadata": {},
   "outputs": [
    {
     "name": "stdout",
     "output_type": "stream",
     "text": [
      "Họ và tên: Võ Thị Thu Giang\n",
      "ngày sinh: 11/09/1998\n",
      "địa chỉ: phường 2, Tân Bình, HCM\n",
      "mục đích: học hỏi kiến thức\n"
     ]
    }
   ],
   "source": [
    "ten = 'Võ Thị Thu Giang'\n",
    "ngaysinh = '11/09/1998'\n",
    "diachi = 'phường 2, Tân Bình, HCM'\n",
    "mucdich = 'học hỏi kiến thức'\n",
    "print('Họ và tên:',ten)\n",
    "print('ngày sinh:', ngaysinh)\n",
    "print('địa chỉ:', diachi)\n",
    "print('mục đích:', mucdich)"
   ]
  }
 ],
 "metadata": {
  "kernelspec": {
   "display_name": "Python 3 (ipykernel)",
   "language": "python",
   "name": "python3"
  },
  "language_info": {
   "codemirror_mode": {
    "name": "ipython",
    "version": 3
   },
   "file_extension": ".py",
   "mimetype": "text/x-python",
   "name": "python",
   "nbconvert_exporter": "python",
   "pygments_lexer": "ipython3",
   "version": "3.10.4"
  }
 },
 "nbformat": 4,
 "nbformat_minor": 5
}
